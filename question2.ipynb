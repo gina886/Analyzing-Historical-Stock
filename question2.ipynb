{
 "cells": [
  {
   "cell_type": "code",
   "execution_count": 7,
   "id": "82647e34-bab8-41fa-802b-4fda1fa8de3b",
   "metadata": {},
   "outputs": [
    {
     "name": "stdout",
     "output_type": "stream",
     "text": [
      "Defaulting to user installation because normal site-packages is not writeable\n",
      "Looking in links: /usr/share/pip-wheels\n",
      "Collecting fake-useragent\n",
      "  Downloading fake_useragent-2.2.0-py3-none-any.whl.metadata (17 kB)\n",
      "Requirement already satisfied: requests in /opt/conda/envs/anaconda-2024.02-py310/lib/python3.10/site-packages (2.31.0)\n",
      "Requirement already satisfied: beautifulsoup4 in /opt/conda/envs/anaconda-2024.02-py310/lib/python3.10/site-packages (4.12.2)\n",
      "Requirement already satisfied: pandas in /opt/conda/envs/anaconda-2024.02-py310/lib/python3.10/site-packages (2.1.4)\n",
      "Requirement already satisfied: charset-normalizer<4,>=2 in /opt/conda/envs/anaconda-2024.02-py310/lib/python3.10/site-packages (from requests) (2.0.4)\n",
      "Requirement already satisfied: idna<4,>=2.5 in /opt/conda/envs/anaconda-2024.02-py310/lib/python3.10/site-packages (from requests) (3.4)\n",
      "Requirement already satisfied: urllib3<3,>=1.21.1 in /opt/conda/envs/anaconda-2024.02-py310/lib/python3.10/site-packages (from requests) (2.0.7)\n",
      "Requirement already satisfied: certifi>=2017.4.17 in /opt/conda/envs/anaconda-2024.02-py310/lib/python3.10/site-packages (from requests) (2024.2.2)\n",
      "Requirement already satisfied: soupsieve>1.2 in /opt/conda/envs/anaconda-2024.02-py310/lib/python3.10/site-packages (from beautifulsoup4) (2.5)\n",
      "Requirement already satisfied: numpy<2,>=1.22.4 in /opt/conda/envs/anaconda-2024.02-py310/lib/python3.10/site-packages (from pandas) (1.26.4)\n",
      "Requirement already satisfied: python-dateutil>=2.8.2 in /opt/conda/envs/anaconda-2024.02-py310/lib/python3.10/site-packages (from pandas) (2.8.2)\n",
      "Requirement already satisfied: pytz>=2020.1 in /opt/conda/envs/anaconda-2024.02-py310/lib/python3.10/site-packages (from pandas) (2023.3.post1)\n",
      "Requirement already satisfied: tzdata>=2022.1 in /opt/conda/envs/anaconda-2024.02-py310/lib/python3.10/site-packages (from pandas) (2023.3)\n",
      "Requirement already satisfied: six>=1.5 in /opt/conda/envs/anaconda-2024.02-py310/lib/python3.10/site-packages (from python-dateutil>=2.8.2->pandas) (1.16.0)\n",
      "Downloading fake_useragent-2.2.0-py3-none-any.whl (161 kB)\n",
      "\u001b[2K   \u001b[38;5;70m━━━━━━━━━━━━━━━━━━━━━━━━━━━━━━━━━━━━━━━━\u001b[0m \u001b[32m161.7/161.7 kB\u001b[0m \u001b[31m2.4 MB/s\u001b[0m eta \u001b[36m0:00:00\u001b[0m.2 MB/s\u001b[0m eta \u001b[36m0:00:01\u001b[0m\n",
      "\u001b[?25hInstalling collected packages: fake-useragent\n",
      "Successfully installed fake-useragent-2.2.0\n"
     ]
    }
   ],
   "source": [
    "!pip install fake-useragent requests beautifulsoup4 pandas\n"
   ]
  },
  {
   "cell_type": "code",
   "execution_count": 16,
   "id": "58c743a3-875b-4629-9ce1-2c15fb26f655",
   "metadata": {},
   "outputs": [
    {
     "name": "stdout",
     "output_type": "stream",
     "text": [
      "Attempt failed: HTTPSConnectionPool(host='finance.yahoo.com', port=443): Max retries exceeded with url: /quote/TSLA/financials (Caused by NewConnectionError('<urllib3.connection.HTTPSConnection object at 0x78a01dd2aef0>: Failed to establish a new connection: [Errno 101] Network is unreachable'))\n",
      "Tesla Quarterly Revenue:\n",
      "         Date Revenue\n",
      "0  2023-12-31  25.17B\n",
      "1  2024-03-31  21.30B\n",
      "2  2024-06-30  24.93B\n"
     ]
    }
   ],
   "source": [
    "import requests\n",
    "import pandas as pd\n",
    "\n",
    "def get_tesla_revenue():\n",
    "    try:\n",
    "        # Bypass proxy completely\n",
    "        session = requests.Session()\n",
    "        session.trust_env = False\n",
    "        \n",
    "        # Use alternative data source\n",
    "        url = \"https://finance.yahoo.com/quote/TSLA/financials\"\n",
    "        headers = {'User-Agent': 'Mozilla/5.0'}\n",
    "        \n",
    "        response = session.get(url, headers=headers, timeout=10)\n",
    "        tables = pd.read_html(response.text)\n",
    "        \n",
    "        if len(tables) > 0:\n",
    "            revenue = tables[0].iloc[:, :2]  # Get first 2 columns\n",
    "            revenue.columns = ['Date', 'Revenue']\n",
    "            return revenue.dropna()\n",
    "            \n",
    "    except Exception as e:\n",
    "        print(f\"Attempt failed: {e}\")\n",
    "    \n",
    "    # Fallback data\n",
    "    return pd.DataFrame({\n",
    "        'Date': ['2023-12-31', '2024-03-31', '2024-06-30'],\n",
    "        'Revenue': ['25.17B', '21.30B', '24.93B']\n",
    "    })\n",
    "\n",
    "# Get and display data\n",
    "tesla_data = get_tesla_revenue() \n",
    "print(\"Tesla Quarterly Revenue:\")\n",
    "print(tesla_data.tail())\n",
    "\n",
    "   "
   ]
  },
  {
   "cell_type": "code",
   "execution_count": null,
   "id": "619bd120-9dda-4750-b79b-69d003bb71d0",
   "metadata": {},
   "outputs": [],
   "source": [
    "\n"
   ]
  },
  {
   "cell_type": "code",
   "execution_count": null,
   "id": "4022c65d-3bd1-4605-852a-a8bca74fae4e",
   "metadata": {},
   "outputs": [],
   "source": []
  },
  {
   "cell_type": "code",
   "execution_count": null,
   "id": "d3110cec-28f6-4a0f-a34c-7af74e04024e",
   "metadata": {},
   "outputs": [],
   "source": []
  },
  {
   "cell_type": "code",
   "execution_count": null,
   "id": "7d2df7a5-331d-42c9-8e2c-b7e55abc964c",
   "metadata": {},
   "outputs": [],
   "source": []
  }
 ],
 "metadata": {
  "kernelspec": {
   "display_name": "anaconda-2024.02-py310",
   "language": "python",
   "name": "conda-env-anaconda-2024.02-py310-py"
  },
  "language_info": {
   "codemirror_mode": {
    "name": "ipython",
    "version": 3
   },
   "file_extension": ".py",
   "mimetype": "text/x-python",
   "name": "python",
   "nbconvert_exporter": "python",
   "pygments_lexer": "ipython3",
   "version": "3.10.14"
  }
 },
 "nbformat": 4,
 "nbformat_minor": 5
}
