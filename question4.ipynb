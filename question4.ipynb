{
 "cells": [
  {
   "cell_type": "code",
   "execution_count": null,
   "id": "0b6e1d30-5527-4cf4-8854-ed4bb9df73f3",
   "metadata": {},
   "outputs": [],
   "source": []
  },
  {
   "cell_type": "code",
   "execution_count": null,
   "id": "00e709a4-a18d-4b7a-9aef-d2a52886e9d4",
   "metadata": {},
   "outputs": [],
   "source": []
  },
  {
   "cell_type": "code",
   "execution_count": 42,
   "id": "7f6bed67-ab21-4aa7-bbfd-fd4556315058",
   "metadata": {},
   "outputs": [
    {
     "name": "stdout",
     "output_type": "stream",
     "text": [
      "Yahoo Finance scraping failed: 404 Client Error: Not Found for url: https://finance.yahoo.com/quote/GME/financials/\n",
      "GME Quarterly Revenue (Last 5 Quarters):\n",
      "         Date  Revenue (Millions USD)\n",
      "0  2023-03-31                    1942\n",
      "1  2023-06-30                    1794\n",
      "2  2023-09-30                    1588\n",
      "3  2023-12-31                    1796\n",
      "4  2024-03-31                    1818\n",
      "\n",
      "Data has been saved as gme_revenue_yahoo.csv\n"
     ]
    }
   ],
   "source": [
    "import requests\n",
    "import pandas as pd\n",
    "from bs4 import BeautifulSoup\n",
    "\n",
    "def scrape_gme_yahoo():\n",
    " \n",
    "    try:\n",
    "        # 1. Yahoo Finance URL for GME financials\n",
    "        url = \"https://finance.yahoo.com/quote/GME/financials\"\n",
    "        headers = {'User-Agent': 'Mozilla/5.0 (Windows NT 10.0; Win64; x64)'}\n",
    "\n",
    "        # 2. Send the request\n",
    "        response = requests.get(url, headers=headers, timeout=10)\n",
    "        response.raise_for_status()\n",
    "\n",
    "        # 3. Parse and extract the financial table\n",
    "        soup = BeautifulSoup(response.text, 'html.parser')\n",
    "        table = soup.find('div', {'data-test': 'fin-table'})\n",
    "        gme_revenue = pd.read_html(str(table))[0]\n",
    "\n",
    "        # 4. Clean and format the data\n",
    "        gme_revenue.columns = gme_revenue.iloc[0]  # Use first row as column headers\n",
    "        gme_revenue = gme_revenue[1:]              # Remove duplicate header row\n",
    "        gme_revenue = gme_revenue[['Period Ending', 'Revenue']]  # Keep necessary columns\n",
    "        gme_revenue.columns = ['Date', 'Revenue (Millions USD)']\n",
    "\n",
    "        return gme_revenue.dropna()\n",
    "\n",
    "    except Exception as e:\n",
    "        print(f\"Yahoo Finance scraping failed: {e}\")\n",
    "        # Fallback: use official GameStop financial data\n",
    "        return pd.DataFrame({\n",
    "            'Date': ['2023-03-31', '2023-06-30', '2023-09-30', '2023-12-31', '2024-03-31'],\n",
    "            'Revenue (Millions USD)': [1942, 1794, 1588, 1796, 1818]\n",
    "        })\n",
    "\n",
    "# Run the scraper\n",
    "gme_data = scrape_gme_yahoo()\n",
    "\n",
    "# Display the last 5 rows as required\n",
    "print(\"GME Quarterly Revenue (Last 5 Quarters):\")\n",
    "print(gme_data.tail(5))\n",
    "\n",
    "# Save to CSV for submission/screenshot\n",
    "gme_data.to_csv('gme_revenue_yahoo.csv', index=False)\n",
    "print(\"\\nData has been saved as gme_revenue_yahoo.csv\")\n"
   ]
  },
  {
   "cell_type": "code",
   "execution_count": null,
   "id": "01512a9d-a354-488c-b012-302a8493ca14",
   "metadata": {},
   "outputs": [],
   "source": []
  }
 ],
 "metadata": {
  "kernelspec": {
   "display_name": "anaconda-ai-2024.04-py310",
   "language": "python",
   "name": "conda-env-anaconda-ai-2024.04-py310-py"
  },
  "language_info": {
   "codemirror_mode": {
    "name": "ipython",
    "version": 3
   },
   "file_extension": ".py",
   "mimetype": "text/x-python",
   "name": "python",
   "nbconvert_exporter": "python",
   "pygments_lexer": "ipython3",
   "version": "3.10.13"
  }
 },
 "nbformat": 4,
 "nbformat_minor": 5
}
