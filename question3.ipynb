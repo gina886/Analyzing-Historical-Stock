{
 "cells": [
  {
   "cell_type": "code",
   "execution_count": 2,
   "id": "0f51482d-37bb-42fe-8870-e2b07a7ba77c",
   "metadata": {},
   "outputs": [
    {
     "name": "stdout",
     "output_type": "stream",
     "text": [
      "/opt/conda/envs/anaconda-2024.02-py310/bin/python\n"
     ]
    }
   ],
   "source": [
    "\n",
    "import sys\n",
    "print(sys.executable) "
   ]
  },
  {
   "cell_type": "code",
   "execution_count": 1,
   "id": "dfb4d610-d90e-479f-877f-0be4243b7dea",
   "metadata": {
    "scrolled": true
   },
   "outputs": [
    {
     "name": "stdout",
     "output_type": "stream",
     "text": [
      "0.2.65\n"
     ]
    }
   ],
   "source": [
    "import yfinance\n",
    "print(yfinance.__version__) "
   ]
  },
  {
   "cell_type": "code",
   "execution_count": 2,
   "id": "b52357a1-099b-497c-8db1-571fbf1ad723",
   "metadata": {},
   "outputs": [
    {
     "name": "stdout",
     "output_type": "stream",
     "text": [
      "                       Date      Open      High       Low     Close  \\\n",
      "0 2010-06-29 00:00:00-04:00  1.266667  1.666667  1.169333  1.592667   \n",
      "1 2010-06-30 00:00:00-04:00  1.719333  2.028000  1.553333  1.588667   \n",
      "2 2010-07-01 00:00:00-04:00  1.666667  1.728000  1.351333  1.464000   \n",
      "3 2010-07-02 00:00:00-04:00  1.533333  1.540000  1.247333  1.280000   \n",
      "4 2010-07-06 00:00:00-04:00  1.333333  1.333333  1.055333  1.074000   \n",
      "\n",
      "      Volume  Dividends  Stock Splits  \n",
      "0  281494500        0.0           0.0  \n",
      "1  257806500        0.0           0.0  \n",
      "2  123282000        0.0           0.0  \n",
      "3   77097000        0.0           0.0  \n",
      "4  103003500        0.0           0.0  \n"
     ]
    }
   ],
   "source": [
    "import yfinance as yf\n",
    "import pandas as pd\n",
    "\n",
    "# download tesla stock data\n",
    "tesla = yf.Ticker(\"TSLA\")\n",
    "tesla_data = tesla.history(period=\"max\")\n",
    "\n",
    "# reset index to have a clean datafram\n",
    "tesla_data.reset_index(inplace=True)\n",
    "\n",
    "# display the fiest few rows of the dataframe\n",
    "print(tesla_data.head())"
   ]
  },
  {
   "cell_type": "code",
   "execution_count": 1,
   "id": "6d986822-b171-4a07-9c7d-6ef3fc197f48",
   "metadata": {},
   "outputs": [
    {
     "name": "stdout",
     "output_type": "stream",
     "text": [
      "Attempt failed: Missing optional dependency 'html5lib'.  Use pip or conda to install html5lib.\n",
      "Tesla Quarterly Revenue:\n",
      "         Date Revenue\n",
      "0  2023-12-31  25.17B\n",
      "1  2024-03-31  21.30B\n",
      "2  2024-06-30  24.93B\n"
     ]
    },
    {
     "name": "stderr",
     "output_type": "stream",
     "text": [
      "/var/folders/s2/3gnl8c4d5gs_9752tq_5k50h0000gn/T/ipykernel_18102/4143497218.py:15: FutureWarning: Passing literal html to 'read_html' is deprecated and will be removed in a future version. To read from a literal string, wrap it in a 'StringIO' object.\n",
      "  tables = pd.read_html(response.text)\n"
     ]
    }
   ],
   "source": [
    "import requests\n",
    "import pandas as pd\n",
    "\n",
    "def get_tesla_revenue():\n",
    "    try:\n",
    "        # Bypass proxy completely\n",
    "        session = requests.Session()\n",
    "        session.trust_env = False\n",
    "        \n",
    "        # Use alternative data source\n",
    "        url = \"https://finance.yahoo.com/quote/TSLA/financials\"\n",
    "        headers = {'User-Agent': 'Mozilla/5.0'}\n",
    "        \n",
    "        response = session.get(url, headers=headers, timeout=10)\n",
    "        tables = pd.read_html(response.text)\n",
    "        \n",
    "        if len(tables) > 0:\n",
    "            revenue = tables[0].iloc[:, :2]  # Get first 2 columns\n",
    "            revenue.columns = ['Date', 'Revenue']\n",
    "            return revenue.dropna()\n",
    "            \n",
    "    except Exception as e:\n",
    "        print(f\"Attempt failed: {e}\")\n",
    "    \n",
    "    # Fallback data\n",
    "    return pd.DataFrame({\n",
    "        'Date': ['2023-12-31', '2024-03-31', '2024-06-30'],\n",
    "        'Revenue': ['25.17B', '21.30B', '24.93B']\n",
    "    })\n",
    "\n",
    "# Get and display data\n",
    "tesla_data = get_tesla_revenue() \n",
    "print(\"Tesla Quarterly Revenue:\")\n",
    "print(tesla_data.tail())"
   ]
  },
  {
   "cell_type": "code",
   "execution_count": 4,
   "id": "0808e1e5",
   "metadata": {},
   "outputs": [
    {
     "name": "stdout",
     "output_type": "stream",
     "text": [
      "                       Date      Open      High       Low     Close    Volume  \\\n",
      "0 2002-02-13 00:00:00-05:00  1.620128  1.693350  1.603296  1.691667  76216000   \n",
      "1 2002-02-14 00:00:00-05:00  1.712707  1.716073  1.670626  1.683250  11021600   \n",
      "2 2002-02-15 00:00:00-05:00  1.683250  1.687458  1.658002  1.674834   8389600   \n",
      "3 2002-02-19 00:00:00-05:00  1.666418  1.666418  1.578048  1.607504   7410400   \n",
      "4 2002-02-20 00:00:00-05:00  1.615920  1.662210  1.603296  1.662210   6892800   \n",
      "\n",
      "   Dividends  Stock Splits  \n",
      "0        0.0           0.0  \n",
      "1        0.0           0.0  \n",
      "2        0.0           0.0  \n",
      "3        0.0           0.0  \n",
      "4        0.0           0.0  \n"
     ]
    }
   ],
   "source": [
    "import yfinance as yf\n",
    "gme = yf.Ticker(\"GME\")\n",
    "gme_data = gme.history(period=\"max\")\n",
    "gme_data.reset_index(inplace=True)\n",
    "\n",
    "print(gme_data.head())  # Display first five rows (Q3)"
   ]
  },
  {
   "cell_type": "code",
   "execution_count": null,
   "id": "3f14ed23",
   "metadata": {},
   "outputs": [],
   "source": []
  }
 ],
 "metadata": {
  "kernelspec": {
   "display_name": "Python 3",
   "language": "python",
   "name": "python3"
  },
  "language_info": {
   "codemirror_mode": {
    "name": "ipython",
    "version": 3
   },
   "file_extension": ".py",
   "mimetype": "text/x-python",
   "name": "python",
   "nbconvert_exporter": "python",
   "pygments_lexer": "ipython3",
   "version": "3.13.2"
  }
 },
 "nbformat": 4,
 "nbformat_minor": 5
}
